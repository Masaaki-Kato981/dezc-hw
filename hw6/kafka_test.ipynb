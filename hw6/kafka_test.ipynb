{
 "cells": [
  {
   "cell_type": "code",
   "execution_count": 1,
   "metadata": {},
   "outputs": [
    {
     "data": {
      "text/plain": [
       "True"
      ]
     },
     "execution_count": 1,
     "metadata": {},
     "output_type": "execute_result"
    }
   ],
   "source": [
    "# Question 3\n",
    "import json\n",
    "\n",
    "from kafka import KafkaProducer\n",
    "\n",
    "def json_serializer(data):\n",
    "    return json.dumps(data).encode('utf-8')\n",
    "\n",
    "server = 'localhost:9092'\n",
    "\n",
    "producer = KafkaProducer(\n",
    "    bootstrap_servers=[server],\n",
    "    value_serializer=json_serializer\n",
    ")\n",
    "\n",
    "producer.bootstrap_connected()"
   ]
  },
  {
   "cell_type": "code",
   "execution_count": null,
   "metadata": {},
   "outputs": [
    {
     "name": "stderr",
     "output_type": "stream",
     "text": [
      "/var/folders/h6/74pvk02s45b4b33xhqjchqyr0000gn/T/ipykernel_43401/1105736215.py:6: DtypeWarning: Columns (3) have mixed types. Specify dtype option on import or set low_memory=False.\n",
      "  df_raw = pd.read_csv('green_tripdata_2019-10.csv')\n"
     ]
    }
   ],
   "source": [
    "# Question 4\n",
    "# Clean data first\n",
    "import pandas as pd\n",
    "subset_key = ['lpep_pickup_datetime', 'lpep_dropoff_datetime', 'PULocationID', \n",
    "              'DOLocationID', 'passenger_count', 'trip_distance', 'tip_amount']\n",
    "df_raw = pd.read_csv('green_tripdata_2019-10.csv')\n",
    "df = df_raw.loc[:, subset_key]\n",
    "\n",
    "df['passenger_count'] = df['passenger_count'].fillna(0)\n",
    "\n",
    "df.to_csv('green_tripdata_clean.csv', index = False)\n",
    "\n"
   ]
  },
  {
   "cell_type": "code",
   "execution_count": 2,
   "metadata": {},
   "outputs": [
    {
     "name": "stdout",
     "output_type": "stream",
     "text": [
      "took 11.86 seconds\n"
     ]
    }
   ],
   "source": [
    "# Question 4\n",
    "import csv\n",
    "from time import time\n",
    "\n",
    "topic_name = 'green-trips'\n",
    "csv_file = 'green_tripdata_clean.csv'\n",
    "\n",
    "t0 = time()\n",
    "\n",
    "with open(csv_file, 'r', newline='', encoding='utf-8') as file:\n",
    "    reader = csv.DictReader(file)\n",
    "\n",
    "    for row in reader:\n",
    "        message = row\n",
    "        producer.send(topic_name, value = message)\n",
    "\n",
    "producer.flush()\n",
    "\n",
    "t1 = time()\n",
    "print(f'took {(t1 - t0):.2f} seconds')\n",
    "\n",
    "producer.close()\n",
    "        \n"
   ]
  },
  {
   "cell_type": "code",
   "execution_count": null,
   "metadata": {},
   "outputs": [],
   "source": []
  }
 ],
 "metadata": {
  "kernelspec": {
   "display_name": "base",
   "language": "python",
   "name": "python3"
  },
  "language_info": {
   "codemirror_mode": {
    "name": "ipython",
    "version": 3
   },
   "file_extension": ".py",
   "mimetype": "text/x-python",
   "name": "python",
   "nbconvert_exporter": "python",
   "pygments_lexer": "ipython3",
   "version": "3.11.11"
  }
 },
 "nbformat": 4,
 "nbformat_minor": 2
}
